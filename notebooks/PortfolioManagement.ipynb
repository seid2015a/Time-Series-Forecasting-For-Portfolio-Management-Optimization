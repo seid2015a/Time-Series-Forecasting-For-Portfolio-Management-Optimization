{
 "cells": [
  {
   "cell_type": "markdown",
   "id": "bcbc551a-7b97-41f3-88ca-c5001bb430f5",
   "metadata": {},
   "source": [
    "Import Libraries"
   ]
  },
  {
   "cell_type": "code",
   "execution_count": 19,
   "id": "70a6079c-9190-479a-8127-8614be6d513b",
   "metadata": {},
   "outputs": [],
   "source": [
    "import pandas as pd # type: ignore\n",
    "import matplotlib.pyplot as plt # type: ignore\n",
    "import seaborn as sns # type: ignore\n",
    "import numpy as np # type: ignore\n",
    "import yfinance as yf # type: ignore\n",
    "from statsmodels.tsa.seasonal import seasonal_decompose"
   ]
  },
  {
   "cell_type": "code",
   "execution_count": 20,
   "id": "cee485d5-02b5-484a-a1a7-b6084978262b",
   "metadata": {},
   "outputs": [
    {
     "name": "stdout",
     "output_type": "stream",
     "text": [
      "C:\\Users\\du\\Desktop\\Git\n"
     ]
    }
   ],
   "source": [
    "import os\n",
    "print(os.getcwd())\n",
    "import warnings\n",
    "warnings.filterwarnings('ignore')"
   ]
  },
  {
   "cell_type": "code",
   "execution_count": 29,
   "id": "115e885a-b4d5-400c-b90d-6adfabbe6d6a",
   "metadata": {},
   "outputs": [
    {
     "name": "stdout",
     "output_type": "stream",
     "text": [
      "C:\\Users\\du\\Desktop\\Git\\Time-Series-Forecasting-For-Portfolio-Management-Optimization\n"
     ]
    }
   ],
   "source": [
    "os.chdir('C:/Users/du/Desktop/Git/Time-Series-Forecasting-For-Portfolio-Management-Optimization')\n",
    "print(os.getcwd())"
   ]
  },
  {
   "cell_type": "markdown",
   "id": "3139f85d-1c46-4733-b98d-da59399da9ce",
   "metadata": {},
   "source": [
    "♻️ Preprocess and Explore the Data"
   ]
  },
  {
   "cell_type": "raw",
   "id": "556dbf5f-c30c-4ff5-9802-cfa326d0b831",
   "metadata": {},
   "source": [
    "Load, Prepare and understand the historical financial data for Tesla, BND, and SPY over the period from January 1, 2015, to January 31, 2025., using YFinance"
   ]
  },
  {
   "cell_type": "markdown",
   "id": "228614b1-4662-459d-b43d-0f21614d5923",
   "metadata": {},
   "source": [
    "⏳ Data Loading"
   ]
  },
  {
   "cell_type": "code",
   "execution_count": 31,
   "id": "d376b9c1-271a-47dc-8411-0aff15b213f9",
   "metadata": {},
   "outputs": [
    {
     "ename": "ModuleNotFoundError",
     "evalue": "No module named 'scripts.data_loader'",
     "output_type": "error",
     "traceback": [
      "\u001b[1;31m---------------------------------------------------------------------------\u001b[0m",
      "\u001b[1;31mModuleNotFoundError\u001b[0m                       Traceback (most recent call last)",
      "Cell \u001b[1;32mIn[31], line 1\u001b[0m\n\u001b[1;32m----> 1\u001b[0m \u001b[38;5;28;01mfrom\u001b[39;00m \u001b[38;5;21;01mscripts\u001b[39;00m\u001b[38;5;21;01m.\u001b[39;00m\u001b[38;5;21;01mdata_loader\u001b[39;00m \u001b[38;5;28;01mimport\u001b[39;00m loadData\n\u001b[0;32m      2\u001b[0m data\u001b[38;5;241m=\u001b[39m loadData()\n\u001b[0;32m      3\u001b[0m tsla_data, bnd_data, spy_data \u001b[38;5;241m=\u001b[39m data\n",
      "\u001b[1;31mModuleNotFoundError\u001b[0m: No module named 'scripts.data_loader'"
     ]
    }
   ],
   "source": [
    "from scripts.data_loader import loadData\n",
    "data= loadData()\n",
    "tsla_data, bnd_data, spy_data = data"
   ]
  },
  {
   "cell_type": "code",
   "execution_count": 17,
   "id": "f15e7639-e8b9-498c-b930-9468a3578d3a",
   "metadata": {},
   "outputs": [
    {
     "ename": "AttributeError",
     "evalue": "'str' object has no attribute 'columns'",
     "output_type": "error",
     "traceback": [
      "\u001b[1;31m---------------------------------------------------------------------------\u001b[0m",
      "\u001b[1;31mAttributeError\u001b[0m                            Traceback (most recent call last)",
      "Cell \u001b[1;32mIn[17], line 1\u001b[0m\n\u001b[1;32m----> 1\u001b[0m \u001b[38;5;28mprint\u001b[39m(tsla_data\u001b[38;5;241m.\u001b[39mcolumns\u001b[38;5;241m.\u001b[39mtolist())\n",
      "\u001b[1;31mAttributeError\u001b[0m: 'str' object has no attribute 'columns'"
     ]
    }
   ],
   "source": [
    "print(tsla_data.columns.tolist())"
   ]
  },
  {
   "cell_type": "code",
   "execution_count": null,
   "id": "d808bca2-7277-4f49-a93b-e74118fa8414",
   "metadata": {},
   "outputs": [],
   "source": []
  }
 ],
 "metadata": {
  "kernelspec": {
   "display_name": "Python [conda env:base] *",
   "language": "python",
   "name": "conda-base-py"
  },
  "language_info": {
   "codemirror_mode": {
    "name": "ipython",
    "version": 3
   },
   "file_extension": ".py",
   "mimetype": "text/x-python",
   "name": "python",
   "nbconvert_exporter": "python",
   "pygments_lexer": "ipython3",
   "version": "3.12.3"
  }
 },
 "nbformat": 4,
 "nbformat_minor": 5
}
