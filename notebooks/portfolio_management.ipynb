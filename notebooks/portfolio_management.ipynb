{
 "cells": [
  {
   "cell_type": "code",
   "execution_count": 3,
   "id": "7ffb1177-ad76-4b4b-9c2c-90636da30373",
   "metadata": {},
   "outputs": [
    {
     "name": "stdout",
     "output_type": "stream",
     "text": [
      "C:\\Users\\du\\Desktop\\Git\\Time-Series-Forecasting-For-Portfolio-Management-Optimization\\notebooks\n"
     ]
    }
   ],
   "source": [
    "import sys\n",
    "import os\n",
    "sys.path.append('/C:/Users/du/Desktop/Git/Time-Series-Forecasting-For-Portfolio-Management-Optimization')  \n",
    "print(os.getcwd())\n",
    "sys.path.append('.')\n"
   ]
  },
  {
   "cell_type": "code",
   "execution_count": 6,
   "id": "2226426f-9f68-4a9a-ae61-d05ce4eacb78",
   "metadata": {},
   "outputs": [
    {
     "ename": "ImportError",
     "evalue": "attempted relative import with no known parent package",
     "output_type": "error",
     "traceback": [
      "\u001b[1;31m---------------------------------------------------------------------------\u001b[0m",
      "\u001b[1;31mImportError\u001b[0m                               Traceback (most recent call last)",
      "Cell \u001b[1;32mIn[6], line 1\u001b[0m\n\u001b[1;32m----> 1\u001b[0m \u001b[38;5;28;01mfrom\u001b[39;00m \u001b[38;5;21;01m.\u001b[39;00m\u001b[38;5;21;01mscripts\u001b[39;00m\u001b[38;5;21;01m.\u001b[39;00m\u001b[38;5;21;01mdata_loader\u001b[39;00m \u001b[38;5;28;01mimport\u001b[39;00m \u001b[38;5;241m*\u001b[39m\n\u001b[0;32m      3\u001b[0m data\u001b[38;5;241m=\u001b[39m data_loader()\n\u001b[0;32m      4\u001b[0m tsla_data, bnd_data, spy_data \u001b[38;5;241m=\u001b[39m data\n",
      "\u001b[1;31mImportError\u001b[0m: attempted relative import with no known parent package"
     ]
    }
   ],
   "source": [
    "from .scripts.data_loader import *\n",
    "\n",
    "data= data_loader()\n",
    "tsla_data, bnd_data, spy_data = data"
   ]
  },
  {
   "cell_type": "markdown",
   "id": "321a624a-c34b-46d8-bfca-5c914f7c4268",
   "metadata": {},
   "source": [
    "# Assistant\n",
    "The error occurs because the `loadData()` function in the `scripts.data_loader` module doesn't accept any arguments, but you're trying to pass the `tickers` list to it.\n",
    "\n",
    "The error message \"loadData() takes 0 positional arguments but 1 was given\" indicates that the function is defined without parameters, but you're calling it with one argument.\n",
    "\n",
    "Would you like me to provide the corrected code?"
   ]
  },
  {
   "cell_type": "code",
   "execution_count": null,
   "id": "fd1e6150-0d12-434e-a5d9-8f4c715ea882",
   "metadata": {},
   "outputs": [],
   "source": []
  }
 ],
 "metadata": {
  "kernelspec": {
   "display_name": "Python [conda env:base] *",
   "language": "python",
   "name": "conda-base-py"
  },
  "language_info": {
   "codemirror_mode": {
    "name": "ipython",
    "version": 3
   },
   "file_extension": ".py",
   "mimetype": "text/x-python",
   "name": "python",
   "nbconvert_exporter": "python",
   "pygments_lexer": "ipython3",
   "version": "3.12.3"
  }
 },
 "nbformat": 4,
 "nbformat_minor": 5
}
